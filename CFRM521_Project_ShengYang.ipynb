{
 "cells": [
  {
   "cell_type": "markdown",
   "metadata": {},
   "source": [
    "<h1>\n",
    "<center>Empirical Asset Pricing via Machine Learning</center>\n",
    "</h1>\n",
    "\n",
    "\n",
    "\n",
    "<center>Alexander Margetis, Lanya Ma, Sheng Yang, Yiming Tan</center>\n",
    "\n"
   ]
  },
  {
   "cell_type": "markdown",
   "metadata": {},
   "source": [
    "## 1. Introduction\n",
    "\n"
   ]
  },
  {
   "cell_type": "markdown",
   "metadata": {},
   "source": [
    "In this project, we conducted an empirical analysis of machine learning methods in asset pricing. We aim to measure and predict risk premium with bundles of underlying factors. In particular, we attempt to study the structure of cross-sectional returns by using various factors. These factors can be stock-level firm characteristics, macroeconomic descriptors and many other derived indicators. In the empirical literature, classical models are proposed to estimate and explain the risk premia with several factors, like CAPM, Fama-French 3 factor and later Fama-French 5 factor model. These models are basically linear projection from bahavior of stocks' expected returns to multiple variates. As the high-dimensional nature is innate in machine learning methods, we can enhances the flexibility of representing assets risk profile relative to more traditional econometric prediction techniques.And the functionals which project high-dimensional predictors to risk premia can be complicated. That's why the application of machine learning in this field can be rather attractive.   \n",
    "\n",
    "Our major contributions in this project are three-fold. First, we investigate machine learning techniques in prediction of cross-sectional returns. This tells us whether machine learning algorithms can improve the estimation of out-of-sample expected returns. Second, we examine the feature importance of factors.This process gives us insights that how to select informative factors. Third, we study the stability of machine learning in portfolio constrcution. We analyze the performance of long-short portfolio from the algorithms over the horizon."
   ]
  },
  {
   "cell_type": "markdown",
   "metadata": {},
   "source": [
    "## 2. Methodology"
   ]
  },
  {
   "cell_type": "markdown",
   "metadata": {},
   "source": [
    "### 2.1 Data Preprocessing and Exploratory Data Analysis"
   ]
  },
  {
   "cell_type": "markdown",
   "metadata": {},
   "source": [
    "Data Cleaning (Lanya Ma)"
   ]
  },
  {
   "cell_type": "code",
   "execution_count": 3,
   "metadata": {},
   "outputs": [
    {
     "name": "stdout",
     "output_type": "stream",
     "text": [
      "['current.csv', 'sales_growth1yr.csv', 'debt_over_asset.csv', 'netprofit_margin.csv', 'market_cap.csv', 'roic.csv', 'roa.csv', 'price.csv', 'GICS_code.csv', 'ocf_ps.csv', 'turnover.csv', 'tax_to_ebt.csv', 'roe.csv', 'pb.csv', 'ebitda_to_sales.csv', 'ca_to_assets.csv', 'bps.csv', 'op_to_debt.csv', 'ps_ttm.csv', '3m_tbill_rate.csv', 'ocf_to_sales.csv', 'eps_ttm.csv', 'pe_ttm.csv', 'ocf_to_debt.csv', 'equity_to_totalcap.csv']\n"
     ]
    }
   ],
   "source": [
    "import pandas as pd\n",
    "import os\n",
    "import glob\n",
    "\n",
    "os.chdir('/Users/shengyang/Documents/CFRM/521 Machine Learning for Finance/CFRM521Project/data')\n",
    "result = glob.glob('*.csv')\n",
    "print(result)\n",
    "data_name_list = list(map(lambda x: x[:-4] , result))"
   ]
  },
  {
   "cell_type": "code",
   "execution_count": 4,
   "metadata": {},
   "outputs": [],
   "source": [
    "import copy\n",
    "import numpy as np\n",
    "\n",
    "def transform_row(filename):\n",
    "    raw_df = pd.read_csv(filename)\n",
    "    row_names = raw_df.iloc[:,0]\n",
    "    raw_df = raw_df.rename(index = row_names)\n",
    "    new_df = raw_df.drop(raw_df.columns[0],axis = 1)\n",
    "    return new_df\n",
    "\n",
    "#Omit stocks w/ no price\n",
    "price = transform_row('price.csv')\n",
    "valid = []\n",
    "nrow = price.shape[0]\n",
    "ncol = price.shape[1]\n",
    "price_mat = np.asmatrix(price)\n",
    "for i in range(0,nrow):\n",
    "    count = 0\n",
    "    for j in range(0,ncol):\n",
    "        if price_mat[i,j] == 0:\n",
    "            count = count+0\n",
    "        else:\n",
    "            count = count+1\n",
    "    if count != 0:\n",
    "        valid.append(i)\n",
    "\n",
    "price_v = price.iloc[valid,:]\n",
    "is_available = copy.deepcopy(price_v)\n",
    "is_available[:] = np.nan\n",
    "is_available[price_v != 0] = 1\n",
    "price_df = price_v*is_available\n",
    "\n",
    "\n",
    "def tranfrom_missing(filename):\n",
    "    raw =  transform_row(filename)\n",
    "    raw = raw.iloc[valid,:]\n",
    "    nrow = raw.shape[0]\n",
    "    ncol = raw.shape[1]\n",
    "    raw = raw.applymap(lambda x: float(x))\n",
    "    raw_mat = np.asmatrix(raw)\n",
    "    for i in range(0,nrow):\n",
    "        fill_data = 0\n",
    "        for j in range(0,ncol):\n",
    "            if raw_mat[i,j] != 0:\n",
    "                fill_data = raw_mat[i,j]\n",
    "            else:\n",
    "                raw_mat[i,j] = fill_data\n",
    "    filled_df = pd.DataFrame(raw_mat)\n",
    "    filled_df.index = price_v.index.values\n",
    "    filled_df.columns = price_v.columns.values\n",
    "    filled_df = np.multiply(filled_df,is_available)\n",
    "    filled_df[filled_df == 0] = np.nan\n",
    "    return filled_df\n",
    "\n",
    "\n",
    "sector_code = transform_row('GICS_code.csv')\n",
    "sector_code[sector_code ==0] = np.nan\n",
    "g_code = sector_code.iloc[:,0].values.reshape(-1, 1)\n",
    "gics_code = g_code[valid]"
   ]
  },
  {
   "cell_type": "code",
   "execution_count": 5,
   "metadata": {},
   "outputs": [],
   "source": [
    "features_dict = {}\n",
    "for idx, element in enumerate(result):\n",
    "    feature_name = data_name_list[idx]\n",
    "    if feature_name not in ['3m_tbill_rate','GICS_code','price']:\n",
    "        feature_df = tranfrom_missing(element)\n",
    "        features_dict[data_name_list[idx]] = feature_df"
   ]
  },
  {
   "cell_type": "code",
   "execution_count": 6,
   "metadata": {},
   "outputs": [
    {
     "name": "stderr",
     "output_type": "stream",
     "text": [
      "/anaconda3/lib/python3.7/site-packages/ipykernel_launcher.py:22: FutureWarning: \n",
      "Passing list-likes to .loc or [] with any missing label will raise\n",
      "KeyError in the future, you can use .reindex() as an alternative.\n",
      "\n",
      "See the documentation here:\n",
      "https://pandas.pydata.org/pandas-docs/stable/indexing.html#deprecate-loc-reindex-listlike\n"
     ]
    }
   ],
   "source": [
    "#Stock return\n",
    "price_df.head()\n",
    "r_m = copy.deepcopy(price_df)\n",
    "r_m[:] = np.nan\n",
    "\n",
    "nrow = r_m.shape[0]\n",
    "ncol = r_m.shape[1]\n",
    "r_mat = np.asmatrix(r_m)\n",
    "p_mat = np.asmatrix(price_df)\n",
    "for i in range(0,nrow):\n",
    "    for j in range(0,ncol-1):\n",
    "        if np.isnan(p_mat[i,j+1]) or np.isnan(p_mat[i,j]):\n",
    "            r_mat[i,j] = np.nan\n",
    "        else:\n",
    "            r_mat[i,j] = (p_mat[i,j+1]-p_mat[i,j])/p_mat[i,j]\n",
    "return_mon = pd.DataFrame(r_mat)\n",
    "return_mon.index = price_v.index.values\n",
    "return_mon.columns = price_v.columns.values\n",
    "\n",
    "#Risk free rate\n",
    "rf= transform_row('3m_tbill_rate.csv')\n",
    "rfree = rf.loc[return_mon.columns]/12"
   ]
  },
  {
   "cell_type": "code",
   "execution_count": 7,
   "metadata": {},
   "outputs": [],
   "source": [
    "#Raw Data Dictionary\n",
    "data_dict = {}\n",
    "time_keys = price.columns.values\n",
    "first_feature = list(features_dict.keys())[0]\n",
    "for time_key in time_keys[:-1]:\n",
    "    cat_array = features_dict[first_feature][time_key].values.reshape(-1, 1)\n",
    "    for key in list(features_dict.keys())[1:]:\n",
    "        right_array = features_dict[key][time_key].values.reshape(-1, 1)\n",
    "        cat_array = np.concatenate((cat_array,right_array),axis = 1)\n",
    "    if np.isnan(rfree.loc[time_key].values):\n",
    "        rfree.loc[time_key] = 0\n",
    "    y_array = return_mon[time_key].values.reshape(-1,1)-rfree.loc[time_key].values.reshape(-1,1)\n",
    "    cat_array = np.concatenate((cat_array,gics_code),axis = 1)\n",
    "    data_array = np.concatenate((cat_array,y_array),axis = 1)\n",
    "    data_df = pd.DataFrame(data_array)\n",
    "    data_df.index = price_df.index.values\n",
    "    data_df.columns = list(features_dict.keys()) + ['GICS_code'] + ['Excess_return']\n",
    "    data_dict[time_key] = data_df"
   ]
  },
  {
   "cell_type": "code",
   "execution_count": 8,
   "metadata": {},
   "outputs": [],
   "source": [
    "import pickle\n",
    "with open('factordata.p', 'wb') as fp:\n",
    "    pickle.dump(data_dict, fp, protocol=pickle.HIGHEST_PROTOCOL)"
   ]
  },
  {
   "cell_type": "code",
   "execution_count": 9,
   "metadata": {},
   "outputs": [],
   "source": [
    "with open('factordata.p', 'rb') as fp:\n",
    "    factordata = pickle.load(fp)"
   ]
  },
  {
   "cell_type": "code",
   "execution_count": 13,
   "metadata": {},
   "outputs": [
    {
     "name": "stdout",
     "output_type": "stream",
     "text": [
      "The scikit-learn version is 0.21.2.\n",
      "The numpy version is 1.16.4.\n",
      "The scipy version is 1.3.0.\n"
     ]
    }
   ],
   "source": [
    "import sklearn, numpy, scipy\n",
    "print('The scikit-learn version is {}.'.format(sklearn.__version__))\n",
    "print('The numpy version is {}.'.format(numpy.__version__))\n",
    "print('The scipy version is {}.'.format(scipy.__version__))"
   ]
  },
  {
   "cell_type": "code",
   "execution_count": 11,
   "metadata": {},
   "outputs": [],
   "source": [
    "#Construct Pipeline\n",
    "def valid_return(dataframe):\n",
    "    exist=[]\n",
    "    nrow = data_df.shape[0]\n",
    "    for i in range(0,nrow):\n",
    "        if not np.isnan(dataframe['Excess_return'][i]):\n",
    "            exist.append(i)\n",
    "    dat = dataframe.iloc[exist,:]\n",
    "    return dat\n",
    "\n",
    "from sklearn.experimental import enable_iterative_imputer\n",
    "from sklearn.impute import IterativeImputer\n",
    "from sklearn.preprocessing import Imputer\n",
    "from sklearn.neighbors import KNeighborsRegressor\n",
    "from sklearn.preprocessing import OneHotEncoder\n",
    "from sklearn.preprocessing import StandardScaler\n",
    "from sklearn.pipeline import Pipeline\n",
    "from sklearn.compose import ColumnTransformer\n",
    "from sklearn.preprocessing import OneHotEncoder\n",
    "import warnings\n",
    "import sys\n",
    "warnings.simplefilter(action='ignore', category=FutureWarning)\n",
    "warnings.filterwarnings(\"ignore\",category=DeprecationWarning)\n",
    "if not sys.warnoptions:\n",
    "    warnings.simplefilter(\"ignore\")\n",
    "    os.environ[\"PYTHONWARNINGS\"] = \"ignore\"\n",
    "\n",
    "num_pipeline = Pipeline([\n",
    "        ('imp', IterativeImputer(max_iter=10, random_state=0,estimator = KNeighborsRegressor(n_neighbors=15))),\n",
    "        ('std_scaler', StandardScaler()),\n",
    "    ])\n",
    "cat_pipeline = Pipeline([\n",
    "        ('imputer', Imputer(missing_values='NaN', strategy='most_frequent', axis=0)),\n",
    "        ('one', OneHotEncoder()),\n",
    "    ])\n",
    "\n",
    "\n",
    "X = {}\n",
    "y = {}"
   ]
  },
  {
   "cell_type": "code",
   "execution_count": 12,
   "metadata": {},
   "outputs": [],
   "source": [
    "for time_key in time_keys[:-1]:\n",
    "    dat = valid_return(data_dict[time_key])\n",
    "    X_raw = dat.drop('Excess_return', axis=1)\n",
    "    num_features = X_raw.drop('GICS_code', axis=1)\n",
    "    num_attribs = list(num_features)\n",
    "    cat_attribs = [\"GICS_code\"]\n",
    "    full_pipeline = ColumnTransformer([\n",
    "        (\"num\", num_pipeline, num_attribs),\n",
    "        (\"cat\", cat_pipeline, cat_attribs),\n",
    "    ])\n",
    "    X_array = full_pipeline.fit_transform(dat)\n",
    "    y_array = dat['Excess_return'].values\n",
    "    X[time_key] = pd.DataFrame(X_array)\n",
    "    y[time_key] = pd.DataFrame(y_array)\n",
    "    y[time_key].columns = ['Excess_return']\n",
    "    y[time_key].index = dat.index.values\n",
    "    X[time_key].index = dat.index.values"
   ]
  },
  {
   "cell_type": "code",
   "execution_count": 14,
   "metadata": {},
   "outputs": [],
   "source": [
    "Train = {}\n",
    "Test = {}\n",
    "for time_key in time_keys[:100]:\n",
    "    Train[time_key] = pd.concat([X[time_key],y[time_key]],axis=1)\n",
    "for time_key in time_keys[100:-1]:\n",
    "    Test[time_key] = pd.concat([X[time_key],y[time_key]],axis=1)"
   ]
  },
  {
   "cell_type": "code",
   "execution_count": 15,
   "metadata": {},
   "outputs": [],
   "source": [
    "import pickle\n",
    "with open('cleanTrain.p', 'wb') as gp:\n",
    "    pickle.dump(Train, gp, protocol=pickle.HIGHEST_PROTOCOL)\n",
    "with open('cleanTest.p', 'wb') as hp:\n",
    "    pickle.dump(Test, hp, protocol=pickle.HIGHEST_PROTOCOL)"
   ]
  },
  {
   "cell_type": "markdown",
   "metadata": {},
   "source": [
    "### 2.2 Generalized linear models\n"
   ]
  },
  {
   "cell_type": "markdown",
   "metadata": {},
   "source": [
    "\n"
   ]
  },
  {
   "cell_type": "markdown",
   "metadata": {},
   "source": [
    "### 2.3 Support vector machines \n"
   ]
  },
  {
   "cell_type": "markdown",
   "metadata": {},
   "source": [
    "\n",
    "\n"
   ]
  },
  {
   "cell_type": "markdown",
   "metadata": {},
   "source": [
    "### 2.4 Ensemble Learning (by Sheng Yang)"
   ]
  },
  {
   "cell_type": "markdown",
   "metadata": {},
   "source": [
    "We applied the features (e.g. 0-46) of the current month to predict the excessive return of next month. Append the excessive return of next month to the features of the current month. "
   ]
  },
  {
   "cell_type": "markdown",
   "metadata": {},
   "source": [
    "### 2.4.1 Data preparation"
   ]
  },
  {
   "cell_type": "code",
   "execution_count": 16,
   "metadata": {
    "scrolled": true
   },
   "outputs": [],
   "source": [
    "data=pd.DataFrame()\n",
    "for i in range(123):\n",
    "    time_key= time_keys[i]\n",
    "    next_time_key= time_keys[i+1]\n",
    "    if i<100:\n",
    "        tmp0=Train[time_key]\n",
    "        if i==99:\n",
    "            tmp1=Test[next_time_key]\n",
    "        else:\n",
    "            tmp1=Train[next_time_key]\n",
    "        tmp0['Next_Excess_return']=tmp1.loc[list(tmp0.index),'Excess_return']\n",
    "        tmp0['time']=time_key\n",
    "        data=pd.concat([data, tmp0])\n",
    "    else:\n",
    "        tmp0=Test[time_key]\n",
    "        tmp1=Test[next_time_key]\n",
    "        tmp0['Next_Excess_return']=tmp1.loc[list(tmp0.index),'Excess_return']\n",
    "        tmp0['time']=time_key\n",
    "        data=pd.concat([data, tmp0])"
   ]
  },
  {
   "cell_type": "code",
   "execution_count": 17,
   "metadata": {
    "scrolled": true
   },
   "outputs": [],
   "source": [
    "data=data.drop([47], axis=1)\n",
    "data=data.dropna()"
   ]
  },
  {
   "cell_type": "code",
   "execution_count": 18,
   "metadata": {
    "scrolled": true
   },
   "outputs": [],
   "source": [
    "train_full_row=0\n",
    "for i in range(100):\n",
    "    time_key= time_keys[i]\n",
    "    # print(i, X[time_key].shape)\n",
    "    train_full_row=train_full_row + X[time_key].shape[0]\n",
    "    \n",
    "train_full= data.head(train_full_row)\n",
    "test = data.iloc[train_full_row:-1,]"
   ]
  },
  {
   "cell_type": "markdown",
   "metadata": {},
   "source": [
    "We create stratified training and validation set bases on time."
   ]
  },
  {
   "cell_type": "code",
   "execution_count": 19,
   "metadata": {},
   "outputs": [],
   "source": [
    "from sklearn.model_selection import StratifiedShuffleSplit\n",
    "\n",
    "split = StratifiedShuffleSplit(n_splits=1,\n",
    "                               test_size=0.3, random_state=42)\n",
    "\n",
    "X_train_full= train_full[range(47)]\n",
    "y_train_full= train_full['Next_Excess_return']\n",
    "X_test= test[range(47)]\n",
    "y_test= test['Next_Excess_return']\n",
    "for train_idx, valid_idx in split.split(train_full, train_full['time']):\n",
    "    train_set= train_full.iloc[train_idx]\n",
    "    valid_set= train_full.iloc[valid_idx]\n",
    "\n",
    "X_train= train_set[range(47)]\n",
    "X_valid= valid_set[range(47)]\n",
    "y_train= train_set['Next_Excess_return']\n",
    "y_valid= valid_set['Next_Excess_return']"
   ]
  },
  {
   "cell_type": "markdown",
   "metadata": {},
   "source": [
    "### 2.4.2 Random Forest"
   ]
  },
  {
   "cell_type": "code",
   "execution_count": 20,
   "metadata": {},
   "outputs": [
    {
     "data": {
      "text/plain": [
       "RandomForestRegressor(bootstrap=True, criterion='mse', max_depth=None,\n",
       "                      max_features=7, max_leaf_nodes=None,\n",
       "                      min_impurity_decrease=0.0, min_impurity_split=None,\n",
       "                      min_samples_leaf=1, min_samples_split=2,\n",
       "                      min_weight_fraction_leaf=0.0, n_estimators=100, n_jobs=-1,\n",
       "                      oob_score=False, random_state=42, verbose=0,\n",
       "                      warm_start=False)"
      ]
     },
     "execution_count": 20,
     "metadata": {},
     "output_type": "execute_result"
    }
   ],
   "source": [
    "from sklearn.ensemble import RandomForestRegressor\n",
    "\n",
    "rf_reg = RandomForestRegressor(bootstrap=True, n_estimators=100, n_jobs=-1,\n",
    "                                max_features=7, random_state=42)\n",
    "rf_reg.fit(X_train_full, y_train_full)"
   ]
  },
  {
   "cell_type": "code",
   "execution_count": 59,
   "metadata": {},
   "outputs": [
    {
     "name": "stdout",
     "output_type": "stream",
     "text": [
      "0.24015550754719495\n",
      "0.18914401251129367\n"
     ]
    }
   ],
   "source": [
    "# test MSE\n",
    "print(mean_squared_error(y_test, rf_reg.predict(X_test)))\n",
    "# test MAE\n",
    "print(mean_absolute_error(y_test, rf_reg.predict(X_test))) \n"
   ]
  },
  {
   "cell_type": "markdown",
   "metadata": {},
   "source": [
    "Grid search for best hyperparameters in random forest:"
   ]
  },
  {
   "cell_type": "code",
   "execution_count": 33,
   "metadata": {
    "scrolled": true
   },
   "outputs": [
    {
     "data": {
      "text/plain": [
       "GridSearchCV(cv=5, error_score='raise-deprecating',\n",
       "             estimator=RandomForestRegressor(bootstrap=True, criterion='mse',\n",
       "                                             max_depth=None,\n",
       "                                             max_features='auto',\n",
       "                                             max_leaf_nodes=None,\n",
       "                                             min_impurity_decrease=0.0,\n",
       "                                             min_impurity_split=None,\n",
       "                                             min_samples_leaf=1,\n",
       "                                             min_samples_split=2,\n",
       "                                             min_weight_fraction_leaf=0.0,\n",
       "                                             n_estimators='warn', n_jobs=None,\n",
       "                                             oob_score=False, random_state=42,\n",
       "                                             verbose=0, warm_start=False),\n",
       "             iid='warn', n_jobs=-1,\n",
       "             param_grid=[{'bootstrap': [False, True],\n",
       "                          'max_features': [3, 6, 12, 24, 47],\n",
       "                          'n_estimators': [10, 50, 100, 200, 500]}],\n",
       "             pre_dispatch='2*n_jobs', refit=True, return_train_score=True,\n",
       "             scoring='neg_mean_squared_error', verbose=0)"
      ]
     },
     "execution_count": 33,
     "metadata": {},
     "output_type": "execute_result"
    }
   ],
   "source": [
    "from sklearn.model_selection import GridSearchCV\n",
    "\n",
    "param_grid = [\n",
    "    # try 50 (2×5×5) combinations of hyperparameters\n",
    "    {'bootstrap': [False, True], 'n_estimators': [10, 50, 100, 200, 500], 'max_features': [3, 6, 12, 24, 47]},\n",
    "  ]\n",
    "\n",
    "forest_reg = RandomForestRegressor(random_state=42)\n",
    "# train across 5 folds, that's a total of 18*5=90 rounds of training \n",
    "forest_reg_grid_search = GridSearchCV(forest_reg, param_grid, cv=5,\n",
    "                           scoring='neg_mean_squared_error',\n",
    "                           return_train_score=True,\n",
    "                           n_jobs=-1)\n",
    "\n",
    "forest_reg_grid_search.fit(X_train.head(20000), y_train.head(20000))"
   ]
  },
  {
   "cell_type": "code",
   "execution_count": 34,
   "metadata": {},
   "outputs": [
    {
     "data": {
      "text/plain": [
       "{'bootstrap': True, 'max_features': 6, 'n_estimators': 200}"
      ]
     },
     "execution_count": 34,
     "metadata": {},
     "output_type": "execute_result"
    }
   ],
   "source": [
    "forest_reg_grid_search.best_params_"
   ]
  },
  {
   "cell_type": "code",
   "execution_count": 35,
   "metadata": {},
   "outputs": [
    {
     "data": {
      "text/plain": [
       "RandomForestRegressor(bootstrap=True, criterion='mse', max_depth=None,\n",
       "                      max_features=6, max_leaf_nodes=None,\n",
       "                      min_impurity_decrease=0.0, min_impurity_split=None,\n",
       "                      min_samples_leaf=1, min_samples_split=2,\n",
       "                      min_weight_fraction_leaf=0.0, n_estimators=200,\n",
       "                      n_jobs=None, oob_score=False, random_state=42, verbose=0,\n",
       "                      warm_start=False)"
      ]
     },
     "execution_count": 35,
     "metadata": {},
     "output_type": "execute_result"
    }
   ],
   "source": [
    "forest_reg_grid_search.best_estimator_"
   ]
  },
  {
   "cell_type": "code",
   "execution_count": 36,
   "metadata": {},
   "outputs": [],
   "source": [
    "best_rf_reg= forest_reg_grid_search.best_estimator_"
   ]
  },
  {
   "cell_type": "code",
   "execution_count": 37,
   "metadata": {},
   "outputs": [
    {
     "data": {
      "text/plain": [
       "RandomForestRegressor(bootstrap=True, criterion='mse', max_depth=None,\n",
       "                      max_features=6, max_leaf_nodes=None,\n",
       "                      min_impurity_decrease=0.0, min_impurity_split=None,\n",
       "                      min_samples_leaf=1, min_samples_split=2,\n",
       "                      min_weight_fraction_leaf=0.0, n_estimators=200,\n",
       "                      n_jobs=None, oob_score=False, random_state=42, verbose=0,\n",
       "                      warm_start=False)"
      ]
     },
     "execution_count": 37,
     "metadata": {},
     "output_type": "execute_result"
    }
   ],
   "source": [
    "best_rf_reg.fit(X_train_full, y_train_full)"
   ]
  },
  {
   "cell_type": "markdown",
   "metadata": {},
   "source": [
    "Performance of random forest method with best hyperparameters:\n",
    "<br>The random forest has test MSE as 0.22069, and MAE as 0.17614."
   ]
  },
  {
   "cell_type": "code",
   "execution_count": 60,
   "metadata": {},
   "outputs": [
    {
     "name": "stdout",
     "output_type": "stream",
     "text": [
      "0.2206928007413852\n",
      "0.17613702524522853\n"
     ]
    }
   ],
   "source": [
    "# test MSE\n",
    "print(mean_squared_error(y_test, best_rf_reg.predict(X_test)))\n",
    "# test MAE\n",
    "print(mean_absolute_error(y_test, best_rf_reg.predict(X_test))) "
   ]
  },
  {
   "cell_type": "markdown",
   "metadata": {},
   "source": [
    "### 2.4.3 Extra Trees"
   ]
  },
  {
   "cell_type": "markdown",
   "metadata": {},
   "source": [
    "Performance of extra trees method with best hyperparameters:\n",
    "<br>The extra trees has test MSE as 0.21223, and MAE as 0.16141."
   ]
  },
  {
   "cell_type": "code",
   "execution_count": 51,
   "metadata": {},
   "outputs": [],
   "source": [
    "from sklearn.ensemble import ExtraTreesRegressor\n",
    "\n",
    "extratrees = ExtraTreesRegressor(bootstrap=True, n_estimators=200, max_features=7,\n",
    "                                  n_jobs=-1, random_state=42)"
   ]
  },
  {
   "cell_type": "code",
   "execution_count": 52,
   "metadata": {},
   "outputs": [
    {
     "data": {
      "text/plain": [
       "ExtraTreesRegressor(bootstrap=True, criterion='mse', max_depth=None,\n",
       "                    max_features=7, max_leaf_nodes=None,\n",
       "                    min_impurity_decrease=0.0, min_impurity_split=None,\n",
       "                    min_samples_leaf=1, min_samples_split=2,\n",
       "                    min_weight_fraction_leaf=0.0, n_estimators=200, n_jobs=-1,\n",
       "                    oob_score=False, random_state=42, verbose=0,\n",
       "                    warm_start=False)"
      ]
     },
     "execution_count": 52,
     "metadata": {},
     "output_type": "execute_result"
    }
   ],
   "source": [
    "extratrees.fit(X_train_full, y_train_full)"
   ]
  },
  {
   "cell_type": "code",
   "execution_count": 61,
   "metadata": {},
   "outputs": [
    {
     "name": "stdout",
     "output_type": "stream",
     "text": [
      "0.21222847676059375\n",
      "0.16140953205835543\n"
     ]
    }
   ],
   "source": [
    "# test MSE\n",
    "print(mean_squared_error(y_test, extratrees.predict(X_test)))\n",
    "# test MAE\n",
    "print(mean_absolute_error(y_test, extratrees.predict(X_test))) "
   ]
  },
  {
   "cell_type": "markdown",
   "metadata": {},
   "source": [
    "### 2.4.4 Adaboost\n"
   ]
  },
  {
   "cell_type": "markdown",
   "metadata": {},
   "source": [
    "Performance of Adaboost method:\n",
    "<br>The Adaboost has test MSE as 0.21522, and MAE as 0.17949."
   ]
  },
  {
   "cell_type": "code",
   "execution_count": 55,
   "metadata": {},
   "outputs": [],
   "source": [
    "from sklearn.ensemble import AdaBoostRegressor\n",
    "\n",
    "ada = AdaBoostRegressor(n_estimators=50,\n",
    "                         learning_rate=0.25, random_state=42)"
   ]
  },
  {
   "cell_type": "code",
   "execution_count": 57,
   "metadata": {},
   "outputs": [
    {
     "data": {
      "text/plain": [
       "AdaBoostRegressor(base_estimator=None, learning_rate=0.25, loss='linear',\n",
       "                  n_estimators=50, random_state=42)"
      ]
     },
     "execution_count": 57,
     "metadata": {},
     "output_type": "execute_result"
    }
   ],
   "source": [
    "ada.fit(X_train_full, y_train_full)"
   ]
  },
  {
   "cell_type": "code",
   "execution_count": 62,
   "metadata": {},
   "outputs": [
    {
     "name": "stdout",
     "output_type": "stream",
     "text": [
      "0.21522228677855376\n",
      "0.179486893265396\n"
     ]
    }
   ],
   "source": [
    "# test MSE\n",
    "print(mean_squared_error(y_test, ada.predict(X_test)))\n",
    "# test MAE\n",
    "print(mean_absolute_error(y_test, ada.predict(X_test))) "
   ]
  },
  {
   "cell_type": "markdown",
   "metadata": {},
   "source": [
    "### 2.4.5 Gradient Boosting"
   ]
  },
  {
   "cell_type": "markdown",
   "metadata": {},
   "source": [
    "Performance of Gradient Boosting method:\n",
    "<br>The Gradient Boosting has test MSE as 0.22502, and MAE as 0.16838."
   ]
  },
  {
   "cell_type": "code",
   "execution_count": 63,
   "metadata": {},
   "outputs": [],
   "source": [
    "from sklearn.ensemble import GradientBoostingRegressor\n",
    "\n",
    "gb = GradientBoostingRegressor(max_depth=3,\n",
    "                                n_estimators=100,\n",
    "                                learning_rate=0.1,\n",
    "                                random_state=42)"
   ]
  },
  {
   "cell_type": "code",
   "execution_count": 65,
   "metadata": {},
   "outputs": [
    {
     "data": {
      "text/plain": [
       "GradientBoostingRegressor(alpha=0.9, criterion='friedman_mse', init=None,\n",
       "                          learning_rate=0.1, loss='ls', max_depth=3,\n",
       "                          max_features=None, max_leaf_nodes=None,\n",
       "                          min_impurity_decrease=0.0, min_impurity_split=None,\n",
       "                          min_samples_leaf=1, min_samples_split=2,\n",
       "                          min_weight_fraction_leaf=0.0, n_estimators=100,\n",
       "                          n_iter_no_change=None, presort='auto',\n",
       "                          random_state=42, subsample=1.0, tol=0.0001,\n",
       "                          validation_fraction=0.1, verbose=0, warm_start=False)"
      ]
     },
     "execution_count": 65,
     "metadata": {},
     "output_type": "execute_result"
    }
   ],
   "source": [
    "gb.fit(X_train_full, y_train_full)"
   ]
  },
  {
   "cell_type": "code",
   "execution_count": 66,
   "metadata": {},
   "outputs": [
    {
     "name": "stdout",
     "output_type": "stream",
     "text": [
      "0.22502005853900364\n",
      "0.16838315044279983\n"
     ]
    }
   ],
   "source": [
    "# test MSE\n",
    "print(mean_squared_error(y_test, gb.predict(X_test)))\n",
    "# test MAE\n",
    "print(mean_absolute_error(y_test, gb.predict(X_test))) "
   ]
  },
  {
   "cell_type": "markdown",
   "metadata": {},
   "source": [
    "### 2.4.6 Xgboost"
   ]
  },
  {
   "cell_type": "markdown",
   "metadata": {},
   "source": [
    "Performance of Xgboost method:\n",
    "<br>The Xgboost has test MSE as 0.21397, and MAE as 0.17564."
   ]
  },
  {
   "cell_type": "code",
   "execution_count": 69,
   "metadata": {},
   "outputs": [],
   "source": [
    "from xgboost import XGBRegressor\n",
    "xgb = XGBRegressor(random_state=42)"
   ]
  },
  {
   "cell_type": "code",
   "execution_count": 72,
   "metadata": {
    "scrolled": true
   },
   "outputs": [
    {
     "name": "stdout",
     "output_type": "stream",
     "text": [
      "[21:10:25] WARNING: src/objective/regression_obj.cu:152: reg:linear is now deprecated in favor of reg:squarederror.\n",
      "[0]\tvalidation_0-rmse:0.969394\n",
      "Will train until validation_0-rmse hasn't improved in 10 rounds.\n",
      "[1]\tvalidation_0-rmse:0.949863\n",
      "[2]\tvalidation_0-rmse:0.933756\n",
      "[3]\tvalidation_0-rmse:0.920528\n",
      "[4]\tvalidation_0-rmse:0.909663\n",
      "[5]\tvalidation_0-rmse:0.900771\n",
      "[6]\tvalidation_0-rmse:0.893523\n",
      "[7]\tvalidation_0-rmse:0.887614\n",
      "[8]\tvalidation_0-rmse:0.882807\n",
      "[9]\tvalidation_0-rmse:0.878888\n",
      "[10]\tvalidation_0-rmse:0.875695\n",
      "[11]\tvalidation_0-rmse:0.873195\n",
      "[12]\tvalidation_0-rmse:0.871095\n",
      "[13]\tvalidation_0-rmse:0.869508\n",
      "[14]\tvalidation_0-rmse:0.86811\n",
      "[15]\tvalidation_0-rmse:0.867017\n",
      "[16]\tvalidation_0-rmse:0.866448\n",
      "[17]\tvalidation_0-rmse:0.865716\n",
      "[18]\tvalidation_0-rmse:0.865164\n",
      "[19]\tvalidation_0-rmse:0.864677\n",
      "[20]\tvalidation_0-rmse:0.864279\n",
      "[21]\tvalidation_0-rmse:0.863995\n",
      "[22]\tvalidation_0-rmse:0.863735\n",
      "[23]\tvalidation_0-rmse:0.863517\n",
      "[24]\tvalidation_0-rmse:0.863335\n",
      "[25]\tvalidation_0-rmse:0.863658\n",
      "[26]\tvalidation_0-rmse:0.863537\n",
      "[27]\tvalidation_0-rmse:0.863459\n",
      "[28]\tvalidation_0-rmse:0.863397\n",
      "[29]\tvalidation_0-rmse:0.863332\n",
      "[30]\tvalidation_0-rmse:0.863278\n",
      "[31]\tvalidation_0-rmse:0.86327\n",
      "[32]\tvalidation_0-rmse:0.86326\n",
      "[33]\tvalidation_0-rmse:0.863255\n",
      "[34]\tvalidation_0-rmse:0.863227\n",
      "[35]\tvalidation_0-rmse:0.863216\n",
      "[36]\tvalidation_0-rmse:0.863182\n",
      "[37]\tvalidation_0-rmse:0.863698\n",
      "[38]\tvalidation_0-rmse:0.86369\n",
      "[39]\tvalidation_0-rmse:0.863674\n",
      "[40]\tvalidation_0-rmse:0.863662\n",
      "[41]\tvalidation_0-rmse:0.864234\n",
      "[42]\tvalidation_0-rmse:0.864226\n",
      "[43]\tvalidation_0-rmse:0.864487\n",
      "[44]\tvalidation_0-rmse:0.86508\n",
      "[45]\tvalidation_0-rmse:0.86507\n",
      "[46]\tvalidation_0-rmse:0.865048\n",
      "Stopping. Best iteration:\n",
      "[36]\tvalidation_0-rmse:0.863182\n",
      "\n"
     ]
    },
    {
     "data": {
      "text/plain": [
       "XGBRegressor(base_score=0.5, booster='gbtree', colsample_bylevel=1,\n",
       "             colsample_bynode=1, colsample_bytree=1, gamma=0,\n",
       "             importance_type='gain', learning_rate=0.1, max_delta_step=0,\n",
       "             max_depth=3, min_child_weight=1, missing=None, n_estimators=100,\n",
       "             n_jobs=1, nthread=None, objective='reg:linear', random_state=42,\n",
       "             reg_alpha=0, reg_lambda=1, scale_pos_weight=1, seed=None,\n",
       "             silent=None, subsample=1, verbosity=1)"
      ]
     },
     "execution_count": 72,
     "metadata": {},
     "output_type": "execute_result"
    }
   ],
   "source": [
    "xgb.fit(X_train, y_train,\n",
    "        eval_set=[(X_valid, y_valid)],\n",
    "        early_stopping_rounds=10)"
   ]
  },
  {
   "cell_type": "code",
   "execution_count": 73,
   "metadata": {},
   "outputs": [
    {
     "name": "stdout",
     "output_type": "stream",
     "text": [
      "0.2139683980601173\n",
      "0.17564382804570586\n"
     ]
    }
   ],
   "source": [
    "# test MSE\n",
    "print(mean_squared_error(y_test, xgb.predict(X_test)))\n",
    "# test MAE\n",
    "print(mean_absolute_error(y_test, xgb.predict(X_test)))"
   ]
  },
  {
   "cell_type": "markdown",
   "metadata": {},
   "source": [
    "### 2.4.7 Stacking Ensemble Method"
   ]
  },
  {
   "cell_type": "markdown",
   "metadata": {},
   "source": [
    "Stacking ensemble method: Use the predictions from random forest, extra trees, Adaboost, Gradient boosting\n",
    "<br> as features and the actual label of the observations as the target. "
   ]
  },
  {
   "cell_type": "code",
   "execution_count": 76,
   "metadata": {},
   "outputs": [],
   "source": [
    "from sklearn.model_selection import cross_val_predict\n",
    "\n",
    "models = [best_rf_reg, extratrees, ada, gb]\n",
    "model_names = [\"forest\", \"ExtraTrees\", \"AdaBoost\", \"GradientBoost\"]"
   ]
  },
  {
   "cell_type": "code",
   "execution_count": 78,
   "metadata": {},
   "outputs": [
    {
     "name": "stdout",
     "output_type": "stream",
     "text": [
      "forest\n",
      "ExtraTrees\n",
      "AdaBoost\n",
      "GradientBoost\n"
     ]
    }
   ],
   "source": [
    "pred = []\n",
    "for idx, m_ in enumerate(models):\n",
    "    pred.append(cross_val_predict(m_, X_train_full, y_train_full,\n",
    "                                  cv=3, n_jobs=-1))\n",
    "    print(model_names[idx])\n",
    "pred=np.transpose(np.array(pred))"
   ]
  },
  {
   "cell_type": "code",
   "execution_count": 80,
   "metadata": {
    "scrolled": true
   },
   "outputs": [
    {
     "name": "stdout",
     "output_type": "stream",
     "text": [
      "CPU times: user 7min 26s, sys: 2.93 s, total: 7min 29s\n",
      "Wall time: 58.7 s\n"
     ]
    },
    {
     "data": {
      "text/plain": [
       "RandomForestRegressor(bootstrap=True, criterion='mse', max_depth=None,\n",
       "                      max_features='auto', max_leaf_nodes=None,\n",
       "                      min_impurity_decrease=0.0, min_impurity_split=None,\n",
       "                      min_samples_leaf=1, min_samples_split=2,\n",
       "                      min_weight_fraction_leaf=0.0, n_estimators=100, n_jobs=-1,\n",
       "                      oob_score=False, random_state=42, verbose=0,\n",
       "                      warm_start=False)"
      ]
     },
     "execution_count": 80,
     "metadata": {},
     "output_type": "execute_result"
    }
   ],
   "source": [
    "blender = RandomForestRegressor(n_estimators=100,\n",
    "                                 n_jobs=-1, random_state=42)\n",
    "\n",
    "%time blender.fit(pred, y_train_full)"
   ]
  },
  {
   "cell_type": "code",
   "execution_count": 82,
   "metadata": {},
   "outputs": [
    {
     "name": "stdout",
     "output_type": "stream",
     "text": [
      "forest\n",
      "ExtraTrees\n",
      "AdaBoost\n",
      "GradientBoost\n"
     ]
    }
   ],
   "source": [
    "pred_test = []\n",
    "for idx, m_ in enumerate(models):\n",
    "    pred_test.append(m_.predict(X_test))\n",
    "    print(model_names[idx])\n",
    "pred_test = np.transpose(np.array(pred_test))"
   ]
  },
  {
   "cell_type": "markdown",
   "metadata": {},
   "source": [
    "Performance of stacking ensemble method:\n",
    "<br>The stacking ensemble has test MSE as 0.30025, and MAE as 0.29806."
   ]
  },
  {
   "cell_type": "code",
   "execution_count": 83,
   "metadata": {},
   "outputs": [
    {
     "name": "stdout",
     "output_type": "stream",
     "text": [
      "0.3002464165646861\n",
      "0.29806191206527116\n"
     ]
    }
   ],
   "source": [
    "# test MSE\n",
    "print(mean_squared_error(y_test, blender.predict(pred_test)))\n",
    "# test MAE\n",
    "print(mean_absolute_error(y_test, blender.predict(pred_test)))"
   ]
  },
  {
   "cell_type": "markdown",
   "metadata": {},
   "source": [
    "### 2.4.8 Variable importance of different tree methods:"
   ]
  },
  {
   "cell_type": "code",
   "execution_count": 150,
   "metadata": {},
   "outputs": [
    {
     "name": "stdout",
     "output_type": "stream",
     "text": [
      "random forest\n",
      "ExtraTrees\n",
      "AdaBoost\n",
      "GradientBoost\n",
      "Xgboost\n"
     ]
    }
   ],
   "source": [
    "models = [best_rf_reg, extratrees, ada, gb, xgb]\n",
    "model_names = [\"random forest\", \"ExtraTrees\", \"AdaBoost\", \"GradientBoost\", \"Xgboost\"]\n",
    "\n",
    "importances = []\n",
    "for idx, m_ in enumerate(models):\n",
    "    importances.append(m_.feature_importances_)\n",
    "    print(model_names[idx])\n",
    "importances = np.transpose(np.array(importances))\n"
   ]
  },
  {
   "cell_type": "code",
   "execution_count": 151,
   "metadata": {
    "scrolled": true
   },
   "outputs": [
    {
     "data": {
      "text/html": [
       "<div>\n",
       "<style scoped>\n",
       "    .dataframe tbody tr th:only-of-type {\n",
       "        vertical-align: middle;\n",
       "    }\n",
       "\n",
       "    .dataframe tbody tr th {\n",
       "        vertical-align: top;\n",
       "    }\n",
       "\n",
       "    .dataframe thead th {\n",
       "        text-align: right;\n",
       "    }\n",
       "</style>\n",
       "<table border=\"1\" class=\"dataframe\">\n",
       "  <thead>\n",
       "    <tr style=\"text-align: right;\">\n",
       "      <th></th>\n",
       "      <th>random forest</th>\n",
       "      <th>ExtraTrees</th>\n",
       "      <th>AdaBoost</th>\n",
       "      <th>GradientBoost</th>\n",
       "      <th>Xgboost</th>\n",
       "    </tr>\n",
       "  </thead>\n",
       "  <tbody>\n",
       "    <tr>\n",
       "      <th>0</th>\n",
       "      <td>0.077215</td>\n",
       "      <td>0.056119</td>\n",
       "      <td>0.000000e+00</td>\n",
       "      <td>0.057011</td>\n",
       "      <td>0.036187</td>\n",
       "    </tr>\n",
       "    <tr>\n",
       "      <th>1</th>\n",
       "      <td>0.101904</td>\n",
       "      <td>0.060023</td>\n",
       "      <td>1.019207e-01</td>\n",
       "      <td>0.253035</td>\n",
       "      <td>0.046038</td>\n",
       "    </tr>\n",
       "    <tr>\n",
       "      <th>2</th>\n",
       "      <td>0.037222</td>\n",
       "      <td>0.047713</td>\n",
       "      <td>9.163462e-05</td>\n",
       "      <td>0.010306</td>\n",
       "      <td>0.081690</td>\n",
       "    </tr>\n",
       "    <tr>\n",
       "      <th>3</th>\n",
       "      <td>0.044125</td>\n",
       "      <td>0.046616</td>\n",
       "      <td>0.000000e+00</td>\n",
       "      <td>0.002769</td>\n",
       "      <td>0.006266</td>\n",
       "    </tr>\n",
       "    <tr>\n",
       "      <th>4</th>\n",
       "      <td>0.038668</td>\n",
       "      <td>0.042184</td>\n",
       "      <td>1.938611e-04</td>\n",
       "      <td>0.001729</td>\n",
       "      <td>0.008348</td>\n",
       "    </tr>\n",
       "    <tr>\n",
       "      <th>5</th>\n",
       "      <td>0.053057</td>\n",
       "      <td>0.049622</td>\n",
       "      <td>3.798762e-09</td>\n",
       "      <td>0.016046</td>\n",
       "      <td>0.003438</td>\n",
       "    </tr>\n",
       "    <tr>\n",
       "      <th>6</th>\n",
       "      <td>0.042437</td>\n",
       "      <td>0.030721</td>\n",
       "      <td>9.014996e-05</td>\n",
       "      <td>0.023595</td>\n",
       "      <td>0.011486</td>\n",
       "    </tr>\n",
       "    <tr>\n",
       "      <th>7</th>\n",
       "      <td>0.041792</td>\n",
       "      <td>0.043199</td>\n",
       "      <td>0.000000e+00</td>\n",
       "      <td>0.000413</td>\n",
       "      <td>0.004594</td>\n",
       "    </tr>\n",
       "    <tr>\n",
       "      <th>8</th>\n",
       "      <td>0.039294</td>\n",
       "      <td>0.028470</td>\n",
       "      <td>0.000000e+00</td>\n",
       "      <td>0.003242</td>\n",
       "      <td>0.007643</td>\n",
       "    </tr>\n",
       "    <tr>\n",
       "      <th>9</th>\n",
       "      <td>0.028732</td>\n",
       "      <td>0.041040</td>\n",
       "      <td>0.000000e+00</td>\n",
       "      <td>0.239351</td>\n",
       "      <td>0.003723</td>\n",
       "    </tr>\n",
       "    <tr>\n",
       "      <th>10</th>\n",
       "      <td>0.026641</td>\n",
       "      <td>0.041917</td>\n",
       "      <td>3.978872e-05</td>\n",
       "      <td>0.005829</td>\n",
       "      <td>0.019613</td>\n",
       "    </tr>\n",
       "    <tr>\n",
       "      <th>11</th>\n",
       "      <td>0.039440</td>\n",
       "      <td>0.035435</td>\n",
       "      <td>0.000000e+00</td>\n",
       "      <td>0.002302</td>\n",
       "      <td>0.005017</td>\n",
       "    </tr>\n",
       "    <tr>\n",
       "      <th>12</th>\n",
       "      <td>0.056084</td>\n",
       "      <td>0.054274</td>\n",
       "      <td>1.563582e-03</td>\n",
       "      <td>0.132681</td>\n",
       "      <td>0.008086</td>\n",
       "    </tr>\n",
       "    <tr>\n",
       "      <th>13</th>\n",
       "      <td>0.032403</td>\n",
       "      <td>0.060914</td>\n",
       "      <td>0.000000e+00</td>\n",
       "      <td>0.000638</td>\n",
       "      <td>0.004256</td>\n",
       "    </tr>\n",
       "    <tr>\n",
       "      <th>14</th>\n",
       "      <td>0.069489</td>\n",
       "      <td>0.043281</td>\n",
       "      <td>0.000000e+00</td>\n",
       "      <td>0.143922</td>\n",
       "      <td>0.006191</td>\n",
       "    </tr>\n",
       "    <tr>\n",
       "      <th>15</th>\n",
       "      <td>0.024624</td>\n",
       "      <td>0.039252</td>\n",
       "      <td>0.000000e+00</td>\n",
       "      <td>0.015529</td>\n",
       "      <td>0.004378</td>\n",
       "    </tr>\n",
       "    <tr>\n",
       "      <th>16</th>\n",
       "      <td>0.034571</td>\n",
       "      <td>0.044850</td>\n",
       "      <td>1.453435e-01</td>\n",
       "      <td>0.001240</td>\n",
       "      <td>0.008130</td>\n",
       "    </tr>\n",
       "    <tr>\n",
       "      <th>17</th>\n",
       "      <td>0.031681</td>\n",
       "      <td>0.071519</td>\n",
       "      <td>6.342020e-04</td>\n",
       "      <td>0.054933</td>\n",
       "      <td>0.210269</td>\n",
       "    </tr>\n",
       "    <tr>\n",
       "      <th>18</th>\n",
       "      <td>0.048623</td>\n",
       "      <td>0.054502</td>\n",
       "      <td>0.000000e+00</td>\n",
       "      <td>0.000060</td>\n",
       "      <td>0.000140</td>\n",
       "    </tr>\n",
       "    <tr>\n",
       "      <th>19</th>\n",
       "      <td>0.033414</td>\n",
       "      <td>0.063014</td>\n",
       "      <td>5.237610e-01</td>\n",
       "      <td>0.013908</td>\n",
       "      <td>0.027075</td>\n",
       "    </tr>\n",
       "    <tr>\n",
       "      <th>20</th>\n",
       "      <td>0.029858</td>\n",
       "      <td>0.030240</td>\n",
       "      <td>0.000000e+00</td>\n",
       "      <td>0.005499</td>\n",
       "      <td>0.005159</td>\n",
       "    </tr>\n",
       "    <tr>\n",
       "      <th>21</th>\n",
       "      <td>0.014424</td>\n",
       "      <td>0.009044</td>\n",
       "      <td>8.222115e-05</td>\n",
       "      <td>0.000383</td>\n",
       "      <td>0.003701</td>\n",
       "    </tr>\n",
       "    <tr>\n",
       "      <th>22</th>\n",
       "      <td>0.001526</td>\n",
       "      <td>0.000183</td>\n",
       "      <td>0.000000e+00</td>\n",
       "      <td>0.000020</td>\n",
       "      <td>0.000000</td>\n",
       "    </tr>\n",
       "    <tr>\n",
       "      <th>23</th>\n",
       "      <td>0.001648</td>\n",
       "      <td>0.000300</td>\n",
       "      <td>0.000000e+00</td>\n",
       "      <td>0.000000</td>\n",
       "      <td>0.084334</td>\n",
       "    </tr>\n",
       "    <tr>\n",
       "      <th>24</th>\n",
       "      <td>0.000409</td>\n",
       "      <td>0.000098</td>\n",
       "      <td>0.000000e+00</td>\n",
       "      <td>0.000000</td>\n",
       "      <td>0.000000</td>\n",
       "    </tr>\n",
       "    <tr>\n",
       "      <th>25</th>\n",
       "      <td>0.000567</td>\n",
       "      <td>0.000118</td>\n",
       "      <td>0.000000e+00</td>\n",
       "      <td>0.000017</td>\n",
       "      <td>0.000000</td>\n",
       "    </tr>\n",
       "    <tr>\n",
       "      <th>26</th>\n",
       "      <td>0.000263</td>\n",
       "      <td>0.000083</td>\n",
       "      <td>0.000000e+00</td>\n",
       "      <td>0.000000</td>\n",
       "      <td>0.000000</td>\n",
       "    </tr>\n",
       "    <tr>\n",
       "      <th>27</th>\n",
       "      <td>0.000785</td>\n",
       "      <td>0.000126</td>\n",
       "      <td>0.000000e+00</td>\n",
       "      <td>0.000000</td>\n",
       "      <td>0.000000</td>\n",
       "    </tr>\n",
       "    <tr>\n",
       "      <th>28</th>\n",
       "      <td>0.001116</td>\n",
       "      <td>0.000364</td>\n",
       "      <td>0.000000e+00</td>\n",
       "      <td>0.000000</td>\n",
       "      <td>0.000000</td>\n",
       "    </tr>\n",
       "    <tr>\n",
       "      <th>29</th>\n",
       "      <td>0.000220</td>\n",
       "      <td>0.000024</td>\n",
       "      <td>0.000000e+00</td>\n",
       "      <td>0.000000</td>\n",
       "      <td>0.000000</td>\n",
       "    </tr>\n",
       "    <tr>\n",
       "      <th>30</th>\n",
       "      <td>0.000153</td>\n",
       "      <td>0.000031</td>\n",
       "      <td>0.000000e+00</td>\n",
       "      <td>0.000000</td>\n",
       "      <td>0.000000</td>\n",
       "    </tr>\n",
       "    <tr>\n",
       "      <th>31</th>\n",
       "      <td>0.000285</td>\n",
       "      <td>0.000025</td>\n",
       "      <td>0.000000e+00</td>\n",
       "      <td>0.000007</td>\n",
       "      <td>0.000000</td>\n",
       "    </tr>\n",
       "    <tr>\n",
       "      <th>32</th>\n",
       "      <td>0.000212</td>\n",
       "      <td>0.000205</td>\n",
       "      <td>0.000000e+00</td>\n",
       "      <td>0.000000</td>\n",
       "      <td>0.000000</td>\n",
       "    </tr>\n",
       "    <tr>\n",
       "      <th>33</th>\n",
       "      <td>0.000289</td>\n",
       "      <td>0.000066</td>\n",
       "      <td>0.000000e+00</td>\n",
       "      <td>0.000000</td>\n",
       "      <td>0.000000</td>\n",
       "    </tr>\n",
       "    <tr>\n",
       "      <th>34</th>\n",
       "      <td>0.000424</td>\n",
       "      <td>0.000034</td>\n",
       "      <td>0.000000e+00</td>\n",
       "      <td>0.000000</td>\n",
       "      <td>0.000000</td>\n",
       "    </tr>\n",
       "    <tr>\n",
       "      <th>35</th>\n",
       "      <td>0.033567</td>\n",
       "      <td>0.000082</td>\n",
       "      <td>2.262794e-01</td>\n",
       "      <td>0.015279</td>\n",
       "      <td>0.404238</td>\n",
       "    </tr>\n",
       "    <tr>\n",
       "      <th>36</th>\n",
       "      <td>0.000809</td>\n",
       "      <td>0.001003</td>\n",
       "      <td>0.000000e+00</td>\n",
       "      <td>0.000000</td>\n",
       "      <td>0.000000</td>\n",
       "    </tr>\n",
       "    <tr>\n",
       "      <th>37</th>\n",
       "      <td>0.000768</td>\n",
       "      <td>0.000070</td>\n",
       "      <td>0.000000e+00</td>\n",
       "      <td>0.000000</td>\n",
       "      <td>0.000000</td>\n",
       "    </tr>\n",
       "    <tr>\n",
       "      <th>38</th>\n",
       "      <td>0.000199</td>\n",
       "      <td>0.000095</td>\n",
       "      <td>0.000000e+00</td>\n",
       "      <td>0.000000</td>\n",
       "      <td>0.000000</td>\n",
       "    </tr>\n",
       "    <tr>\n",
       "      <th>39</th>\n",
       "      <td>0.000647</td>\n",
       "      <td>0.000031</td>\n",
       "      <td>0.000000e+00</td>\n",
       "      <td>0.000000</td>\n",
       "      <td>0.000000</td>\n",
       "    </tr>\n",
       "    <tr>\n",
       "      <th>40</th>\n",
       "      <td>0.000560</td>\n",
       "      <td>0.000129</td>\n",
       "      <td>0.000000e+00</td>\n",
       "      <td>0.000013</td>\n",
       "      <td>0.000000</td>\n",
       "    </tr>\n",
       "    <tr>\n",
       "      <th>41</th>\n",
       "      <td>0.000564</td>\n",
       "      <td>0.000344</td>\n",
       "      <td>0.000000e+00</td>\n",
       "      <td>0.000000</td>\n",
       "      <td>0.000000</td>\n",
       "    </tr>\n",
       "    <tr>\n",
       "      <th>42</th>\n",
       "      <td>0.000477</td>\n",
       "      <td>0.000051</td>\n",
       "      <td>0.000000e+00</td>\n",
       "      <td>0.000000</td>\n",
       "      <td>0.000000</td>\n",
       "    </tr>\n",
       "    <tr>\n",
       "      <th>43</th>\n",
       "      <td>0.000223</td>\n",
       "      <td>0.000030</td>\n",
       "      <td>0.000000e+00</td>\n",
       "      <td>0.000000</td>\n",
       "      <td>0.000000</td>\n",
       "    </tr>\n",
       "    <tr>\n",
       "      <th>44</th>\n",
       "      <td>0.000338</td>\n",
       "      <td>0.000328</td>\n",
       "      <td>0.000000e+00</td>\n",
       "      <td>0.000000</td>\n",
       "      <td>0.000000</td>\n",
       "    </tr>\n",
       "    <tr>\n",
       "      <th>45</th>\n",
       "      <td>0.005096</td>\n",
       "      <td>0.000607</td>\n",
       "      <td>0.000000e+00</td>\n",
       "      <td>0.000244</td>\n",
       "      <td>0.000000</td>\n",
       "    </tr>\n",
       "    <tr>\n",
       "      <th>46</th>\n",
       "      <td>0.003155</td>\n",
       "      <td>0.001624</td>\n",
       "      <td>0.000000e+00</td>\n",
       "      <td>0.000000</td>\n",
       "      <td>0.000000</td>\n",
       "    </tr>\n",
       "  </tbody>\n",
       "</table>\n",
       "</div>"
      ],
      "text/plain": [
       "    random forest  ExtraTrees      AdaBoost  GradientBoost   Xgboost\n",
       "0        0.077215    0.056119  0.000000e+00       0.057011  0.036187\n",
       "1        0.101904    0.060023  1.019207e-01       0.253035  0.046038\n",
       "2        0.037222    0.047713  9.163462e-05       0.010306  0.081690\n",
       "3        0.044125    0.046616  0.000000e+00       0.002769  0.006266\n",
       "4        0.038668    0.042184  1.938611e-04       0.001729  0.008348\n",
       "5        0.053057    0.049622  3.798762e-09       0.016046  0.003438\n",
       "6        0.042437    0.030721  9.014996e-05       0.023595  0.011486\n",
       "7        0.041792    0.043199  0.000000e+00       0.000413  0.004594\n",
       "8        0.039294    0.028470  0.000000e+00       0.003242  0.007643\n",
       "9        0.028732    0.041040  0.000000e+00       0.239351  0.003723\n",
       "10       0.026641    0.041917  3.978872e-05       0.005829  0.019613\n",
       "11       0.039440    0.035435  0.000000e+00       0.002302  0.005017\n",
       "12       0.056084    0.054274  1.563582e-03       0.132681  0.008086\n",
       "13       0.032403    0.060914  0.000000e+00       0.000638  0.004256\n",
       "14       0.069489    0.043281  0.000000e+00       0.143922  0.006191\n",
       "15       0.024624    0.039252  0.000000e+00       0.015529  0.004378\n",
       "16       0.034571    0.044850  1.453435e-01       0.001240  0.008130\n",
       "17       0.031681    0.071519  6.342020e-04       0.054933  0.210269\n",
       "18       0.048623    0.054502  0.000000e+00       0.000060  0.000140\n",
       "19       0.033414    0.063014  5.237610e-01       0.013908  0.027075\n",
       "20       0.029858    0.030240  0.000000e+00       0.005499  0.005159\n",
       "21       0.014424    0.009044  8.222115e-05       0.000383  0.003701\n",
       "22       0.001526    0.000183  0.000000e+00       0.000020  0.000000\n",
       "23       0.001648    0.000300  0.000000e+00       0.000000  0.084334\n",
       "24       0.000409    0.000098  0.000000e+00       0.000000  0.000000\n",
       "25       0.000567    0.000118  0.000000e+00       0.000017  0.000000\n",
       "26       0.000263    0.000083  0.000000e+00       0.000000  0.000000\n",
       "27       0.000785    0.000126  0.000000e+00       0.000000  0.000000\n",
       "28       0.001116    0.000364  0.000000e+00       0.000000  0.000000\n",
       "29       0.000220    0.000024  0.000000e+00       0.000000  0.000000\n",
       "30       0.000153    0.000031  0.000000e+00       0.000000  0.000000\n",
       "31       0.000285    0.000025  0.000000e+00       0.000007  0.000000\n",
       "32       0.000212    0.000205  0.000000e+00       0.000000  0.000000\n",
       "33       0.000289    0.000066  0.000000e+00       0.000000  0.000000\n",
       "34       0.000424    0.000034  0.000000e+00       0.000000  0.000000\n",
       "35       0.033567    0.000082  2.262794e-01       0.015279  0.404238\n",
       "36       0.000809    0.001003  0.000000e+00       0.000000  0.000000\n",
       "37       0.000768    0.000070  0.000000e+00       0.000000  0.000000\n",
       "38       0.000199    0.000095  0.000000e+00       0.000000  0.000000\n",
       "39       0.000647    0.000031  0.000000e+00       0.000000  0.000000\n",
       "40       0.000560    0.000129  0.000000e+00       0.000013  0.000000\n",
       "41       0.000564    0.000344  0.000000e+00       0.000000  0.000000\n",
       "42       0.000477    0.000051  0.000000e+00       0.000000  0.000000\n",
       "43       0.000223    0.000030  0.000000e+00       0.000000  0.000000\n",
       "44       0.000338    0.000328  0.000000e+00       0.000000  0.000000\n",
       "45       0.005096    0.000607  0.000000e+00       0.000244  0.000000\n",
       "46       0.003155    0.001624  0.000000e+00       0.000000  0.000000"
      ]
     },
     "execution_count": 151,
     "metadata": {},
     "output_type": "execute_result"
    }
   ],
   "source": [
    "importances=pd.DataFrame(importances, columns=model_names)\n",
    "importances"
   ]
  },
  {
   "cell_type": "code",
   "execution_count": 152,
   "metadata": {
    "scrolled": false
   },
   "outputs": [
    {
     "data": {
      "image/png": "[encoded data removed]",
      "text/plain": [
       "<Figure size 864x1152 with 1 Axes>"
      ]
     },
     "metadata": {
      "needs_background": "light"
     },
     "output_type": "display_data"
    },
    {
     "data": {
      "image/png": "[encoded data removed]",
      "text/plain": [
       "<Figure size 864x1152 with 1 Axes>"
      ]
     },
     "metadata": {
      "needs_background": "light"
     },
     "output_type": "display_data"
    },
    {
     "data": {
      "image/png": "[encoded data removed]",
      "text/plain": [
       "<Figure size 864x1152 with 1 Axes>"
      ]
     },
     "metadata": {
      "needs_background": "light"
     },
     "output_type": "display_data"
    },
    {
     "data": {
      "image/png": "[encoded data removed]",
      "text/plain": [
       "<Figure size 864x1152 with 1 Axes>"
      ]
     },
     "metadata": {
      "needs_background": "light"
     },
     "output_type": "display_data"
    },
    {
     "data": {
      "image/png": "[encoded data removed]",
      "text/plain": [
       "<Figure size 864x1152 with 1 Axes>"
      ]
     },
     "metadata": {
      "needs_background": "light"
     },
     "output_type": "display_data"
    }
   ],
   "source": [
    "importance=best_rf_reg.feature_importances_\n",
    "indices = np.argsort(importance)\n",
    "features= [\"feature \"+str(i) for i in range(47)]\n",
    "\n",
    "import matplotlib.pyplot as plt\n",
    "\n",
    "for idx, m_ in enumerate(models):\n",
    "    importance=m_.feature_importances_\n",
    "    indices = np.argsort(importance)\n",
    "    features= [\"feature \"+str(i) for i in range(47)]\n",
    "    plt.figure(figsize=(12,16))\n",
    "    plt.title('Feature Importances of '+ model_names[idx])\n",
    "    plt.barh(range(len(indices)), importance[indices], color='b', align='center')\n",
    "    plt.yticks(np.arange(47),labels=[features[i] for i in indices])\n",
    "    plt.xlabel('Relative Importance')"
   ]
  },
  {
   "cell_type": "code",
   "execution_count": 153,
   "metadata": {},
   "outputs": [
    {
     "data": {
      "text/plain": [
       "Text(0.5, 0, 'Relative Importance')"
      ]
     },
     "execution_count": 153,
     "metadata": {},
     "output_type": "execute_result"
    },
    {
     "data": {
      "image/png": "[encoded data removed]",
      "text/plain": [
       "<Figure size 864x1152 with 1 Axes>"
      ]
     },
     "metadata": {
      "needs_background": "light"
     },
     "output_type": "display_data"
    }
   ],
   "source": [
    "importance=importances.mean(axis=1)\n",
    "indices = np.argsort(importance)\n",
    "features= [\"feature \"+str(i) for i in range(47)]\n",
    "plt.figure(figsize=(12,16))\n",
    "plt.title('Feature Importances of Average Methods')\n",
    "plt.barh(range(len(indices)), importance[indices], color='b', align='center')\n",
    "plt.yticks(np.arange(47),labels=[features[i] for i in indices])\n",
    "plt.xlabel('Relative Importance')"
   ]
  },
  {
   "cell_type": "markdown",
   "metadata": {},
   "source": [
    "### 2.5 Neural Networks"
   ]
  },
  {
   "cell_type": "markdown",
   "metadata": {},
   "source": [
    "\n"
   ]
  },
  {
   "cell_type": "markdown",
   "metadata": {},
   "source": [
    "### 2.6 Dimension Reduction "
   ]
  },
  {
   "cell_type": "markdown",
   "metadata": {},
   "source": [
    "\n"
   ]
  },
  {
   "cell_type": "markdown",
   "metadata": {},
   "source": [
    "## 3. Experimental Results"
   ]
  },
  {
   "cell_type": "markdown",
   "metadata": {},
   "source": [
    "### 3.1 Data Description and Exploratory Data Analysis\n",
    "\n",
    "\n"
   ]
  },
  {
   "cell_type": "markdown",
   "metadata": {},
   "source": [
    "Our dataset in this project includes all listed firms in the NYSE, AMEX, and NASDAQ. Our sample begins in January 2009 to April 2019. Our data is monthly updated. We use the Treasury-bill rate as risk-free rate for calculating the excessive returns. The firms characteristics or the factors in other words, include firms' value, growth, solvency, cash flow, profitability, operating capacity, capital structure and momentum. In addition, we include the categorical industry classes corresponding to GICS sectors.    "
   ]
  },
  {
   "cell_type": "markdown",
   "metadata": {},
   "source": []
  },
  {
   "cell_type": "markdown",
   "metadata": {},
   "source": [
    "### 3.2 Out-of-sample Stock-level Prediction Performance\n",
    "\n"
   ]
  },
  {
   "cell_type": "markdown",
   "metadata": {},
   "source": [
    "\n"
   ]
  },
  {
   "cell_type": "markdown",
   "metadata": {},
   "source": [
    "### 3.3 Variable Importance for factors"
   ]
  },
  {
   "cell_type": "markdown",
   "metadata": {},
   "source": [
    "\n"
   ]
  },
  {
   "cell_type": "markdown",
   "metadata": {},
   "source": [
    "### 3.4 Machine Learning Portfolios"
   ]
  },
  {
   "cell_type": "markdown",
   "metadata": {},
   "source": [
    "\n",
    "\n"
   ]
  },
  {
   "cell_type": "markdown",
   "metadata": {},
   "source": [
    "## 4. Conclusions"
   ]
  },
  {
   "cell_type": "markdown",
   "metadata": {},
   "source": [
    "\n",
    "\n"
   ]
  },
  {
   "cell_type": "markdown",
   "metadata": {},
   "source": [
    "## 5. References"
   ]
  },
  {
   "cell_type": "markdown",
   "metadata": {},
   "source": [
    "Gu, Shihao, Bryan Kelly, and Dacheng Xiu. *Empirical asset pricing via machine learning.* No. w25398. National Bureau of Economic Research, 2018.\n",
    "\n"
   ]
  }
 ],
 "metadata": {
  "kernelspec": {
   "display_name": "Python 3",
   "language": "python",
   "name": "python3"
  },
  "language_info": {
   "codemirror_mode": {
    "name": "ipython",
    "version": 3
   },
   "file_extension": ".py",
   "mimetype": "text/x-python",
   "name": "python",
   "nbconvert_exporter": "python",
   "pygments_lexer": "ipython3",
   "version": "3.7.3"
  },
  "latex_envs": {
   "LaTeX_envs_menu_present": true,
   "autoclose": false,
   "autocomplete": true,
   "bibliofile": "biblio.bib",
   "cite_by": "apalike",
   "current_citInitial": 1,
   "eqLabelWithNumbers": true,
   "eqNumInitial": 1,
   "hotkeys": {
    "equation": "Ctrl-E",
    "itemize": "Ctrl-I"
   },
   "labels_anchors": false,
   "latex_user_defs": false,
   "report_style_numbering": false,
   "user_envs_cfg": false
  }
 },
 "nbformat": 4,
 "nbformat_minor": 2
}
